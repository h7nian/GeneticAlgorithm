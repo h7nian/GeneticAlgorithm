{
 "cells": [
  {
   "cell_type": "code",
   "execution_count": 16,
   "id": "a9f25f4b",
   "metadata": {},
   "outputs": [],
   "source": [
    "import argparse\n",
    "import pandas as pd\n",
    "import dgl\n",
    "import torch\n",
    "import torch.nn.functional as F\n",
    "import collections\n",
    "from scipy.sparse import csr_matrix, vstack, save_npz\n",
    "from sklearn.decomposition import PCA\n",
    "from pathlib import Path\n",
    "import numpy as np\n",
    "from pprint import pprint\n",
    "import json\n",
    "from collections import Counter"
   ]
  },
  {
   "cell_type": "markdown",
   "id": "c5b99e1f",
   "metadata": {},
   "source": [
    "# Hyperparameters"
   ]
  },
  {
   "cell_type": "code",
   "execution_count": 56,
   "id": "80150355",
   "metadata": {},
   "outputs": [],
   "source": [
    "device = torch.device('cpu')"
   ]
  },
  {
   "cell_type": "markdown",
   "id": "7b6f551b",
   "metadata": {},
   "source": [
    "# Get id2gene"
   ]
  },
  {
   "cell_type": "code",
   "execution_count": 34,
   "id": "cce8e97a",
   "metadata": {},
   "outputs": [],
   "source": [
    "data_gene = pd.read_csv(\"data/mouse_Muscle1102_data.gz\", compression='gzip', header=0,index_col=0)"
   ]
  },
  {
   "cell_type": "code",
   "execution_count": 35,
   "id": "745a9ff4",
   "metadata": {},
   "outputs": [],
   "source": [
    "id2gene = data_gene.index.values.tolist()\n",
    "id2gene.sort()"
   ]
  },
  {
   "cell_type": "markdown",
   "id": "80c0c696",
   "metadata": {},
   "source": [
    "# Get id2label"
   ]
  },
  {
   "cell_type": "code",
   "execution_count": 38,
   "id": "db057491",
   "metadata": {},
   "outputs": [
    {
     "name": "stderr",
     "output_type": "stream",
     "text": [
      "/tmp/ipykernel_2758419/1672907279.py:1: DeprecationWarning: `np.str` is a deprecated alias for the builtin `str`. To silence this warning, use `str` by itself. Doing this will not modify any behavior and is safe. If you specifically wanted the numpy scalar type, use `np.str_` here.\n",
      "Deprecated in NumPy 1.20; for more details and guidance: https://numpy.org/devdocs/release/1.20.0-notes.html#deprecations\n",
      "  data_cell = pd.read_csv(\"data/mouse_Muscle1102_celltype.csv\", dtype=np.str, header=0,index_col=0)\n"
     ]
    }
   ],
   "source": [
    "data_cell = pd.read_csv(\"data/mouse_Muscle1102_celltype.csv\", dtype=np.str, header=0,index_col=0)"
   ]
  },
  {
   "cell_type": "code",
   "execution_count": 46,
   "id": "9ec66ee3",
   "metadata": {},
   "outputs": [],
   "source": [
    "cell = set()\n",
    "cell_type_list = []"
   ]
  },
  {
   "cell_type": "code",
   "execution_count": 47,
   "id": "ebd4d5a7",
   "metadata": {},
   "outputs": [],
   "source": [
    "data_cell['Cell_type'] = data_cell['Cell_type'].map(str.strip)\n",
    "cell_types = set(data_cell.values[:, 1])\n",
    "cell_type_list.extend(data_cell.values[:, 1].tolist())"
   ]
  },
  {
   "cell_type": "code",
   "execution_count": 49,
   "id": "5fdda944",
   "metadata": {},
   "outputs": [],
   "source": [
    "id2label = list(cell_types)\n",
    "label_statistics = dict(collections.Counter(cell_type_list))"
   ]
  },
  {
   "cell_type": "code",
   "execution_count": 52,
   "id": "ae1124c2",
   "metadata": {},
   "outputs": [],
   "source": [
    "total_cell = sum(label_statistics.values())"
   ]
  },
  {
   "cell_type": "markdown",
   "id": "e7156fd5",
   "metadata": {},
   "source": [
    "# Filter Cell"
   ]
  },
  {
   "cell_type": "code",
   "execution_count": 53,
   "id": "686ab371",
   "metadata": {},
   "outputs": [],
   "source": [
    "for label, num in label_statistics.items():\n",
    "    if num / total_cell <= 0.005:\n",
    "        id2label.remove(label)  # remove exclusive labels"
   ]
  },
  {
   "cell_type": "code",
   "execution_count": 54,
   "id": "d4052f91",
   "metadata": {},
   "outputs": [],
   "source": [
    "gene2id = {gene: idx for idx, gene in enumerate(id2gene)}\n",
    "num_genes = len(id2gene)\n",
    "# prepare unified labels\n",
    "num_labels = len(id2label)\n",
    "label2id = {label: idx for idx, label in enumerate(id2label)}"
   ]
  },
  {
   "cell_type": "markdown",
   "id": "311466db",
   "metadata": {},
   "source": [
    "# Create Graph"
   ]
  },
  {
   "cell_type": "code",
   "execution_count": 57,
   "id": "fd35aa79",
   "metadata": {},
   "outputs": [],
   "source": [
    "graph = dgl.DGLGraph()\n",
    "\n",
    "gene_ids = torch.arange(num_genes, dtype=torch.int32, device=device).unsqueeze(-1)\n",
    "graph.add_nodes(num_genes, {'id': gene_ids})"
   ]
  },
  {
   "cell_type": "code",
   "execution_count": 58,
   "id": "f83ece40",
   "metadata": {},
   "outputs": [
    {
     "data": {
      "text/plain": [
       "Graph(num_nodes=16422, num_edges=0,\n",
       "      ndata_schemes={'id': Scheme(shape=(1,), dtype=torch.int32)}\n",
       "      edata_schemes={})"
      ]
     },
     "execution_count": 58,
     "metadata": {},
     "output_type": "execute_result"
    }
   ],
   "source": [
    "graph"
   ]
  },
  {
   "cell_type": "code",
   "execution_count": 59,
   "id": "b1b2dd84",
   "metadata": {},
   "outputs": [],
   "source": [
    "all_labels = []\n",
    "matrices = []\n",
    "num_cells = 0"
   ]
  },
  {
   "cell_type": "code",
   "execution_count": 62,
   "id": "799c0972",
   "metadata": {},
   "outputs": [],
   "source": [
    "cell2type = pd.read_csv(\"data/mouse_Muscle1102_celltype.csv\",index_col=0)\n",
    "cell2type.columns = ['cell', 'type']\n",
    "cell2type['type'] = cell2type['type'].map(str.strip)\n",
    "cell2type['id'] = cell2type['type'].map(label2id)"
   ]
  },
  {
   "cell_type": "code",
   "execution_count": 63,
   "id": "6fa53a30",
   "metadata": {},
   "outputs": [],
   "source": [
    "filter_cell = np.where(pd.isnull(cell2type['id']) == False)[0]\n",
    "cell2type = cell2type.iloc[filter_cell]"
   ]
  },
  {
   "cell_type": "code",
   "execution_count": 65,
   "id": "073f2a69",
   "metadata": {},
   "outputs": [],
   "source": [
    "all_labels += cell2type['id'].tolist()"
   ]
  },
  {
   "cell_type": "markdown",
   "id": "6dc2bba7",
   "metadata": {},
   "source": [
    "## Cell&Gene Matrix"
   ]
  },
  {
   "cell_type": "code",
   "execution_count": 68,
   "id": "6d900674",
   "metadata": {},
   "outputs": [
    {
     "data": {
      "text/html": [
       "<div>\n",
       "<style scoped>\n",
       "    .dataframe tbody tr th:only-of-type {\n",
       "        vertical-align: middle;\n",
       "    }\n",
       "\n",
       "    .dataframe tbody tr th {\n",
       "        vertical-align: top;\n",
       "    }\n",
       "\n",
       "    .dataframe thead th {\n",
       "        text-align: right;\n",
       "    }\n",
       "</style>\n",
       "<table border=\"1\" class=\"dataframe\">\n",
       "  <thead>\n",
       "    <tr style=\"text-align: right;\">\n",
       "      <th></th>\n",
       "      <th>0610005C13Rik</th>\n",
       "      <th>0610009B22Rik</th>\n",
       "      <th>0610009E02Rik</th>\n",
       "      <th>0610009L18Rik</th>\n",
       "      <th>0610010F05Rik</th>\n",
       "      <th>0610010K14Rik</th>\n",
       "      <th>0610012G03Rik</th>\n",
       "      <th>0610030E20Rik</th>\n",
       "      <th>0610038B21Rik</th>\n",
       "      <th>0610039K10Rik</th>\n",
       "      <th>...</th>\n",
       "      <th>Galnt17</th>\n",
       "      <th>Bud23</th>\n",
       "      <th>Mettl27</th>\n",
       "      <th>Ccn4</th>\n",
       "      <th>Ccn5</th>\n",
       "      <th>Get1</th>\n",
       "      <th>Tut4</th>\n",
       "      <th>Rtl3</th>\n",
       "      <th>Tut7</th>\n",
       "      <th>Zup1</th>\n",
       "    </tr>\n",
       "  </thead>\n",
       "  <tbody>\n",
       "    <tr>\n",
       "      <th>C_1</th>\n",
       "      <td>0.0</td>\n",
       "      <td>0.0</td>\n",
       "      <td>0.0</td>\n",
       "      <td>0.0</td>\n",
       "      <td>0.0</td>\n",
       "      <td>0.0</td>\n",
       "      <td>0.0</td>\n",
       "      <td>0.000000</td>\n",
       "      <td>0.0</td>\n",
       "      <td>0.0</td>\n",
       "      <td>...</td>\n",
       "      <td>0.0</td>\n",
       "      <td>0.000000</td>\n",
       "      <td>0.0</td>\n",
       "      <td>0.0</td>\n",
       "      <td>0.0</td>\n",
       "      <td>0.0</td>\n",
       "      <td>0.0</td>\n",
       "      <td>0.0</td>\n",
       "      <td>0.0</td>\n",
       "      <td>0.0</td>\n",
       "    </tr>\n",
       "    <tr>\n",
       "      <th>C_2</th>\n",
       "      <td>0.0</td>\n",
       "      <td>0.0</td>\n",
       "      <td>0.0</td>\n",
       "      <td>0.0</td>\n",
       "      <td>0.0</td>\n",
       "      <td>0.0</td>\n",
       "      <td>0.0</td>\n",
       "      <td>0.000000</td>\n",
       "      <td>0.0</td>\n",
       "      <td>0.0</td>\n",
       "      <td>...</td>\n",
       "      <td>0.0</td>\n",
       "      <td>0.000000</td>\n",
       "      <td>0.0</td>\n",
       "      <td>0.0</td>\n",
       "      <td>0.0</td>\n",
       "      <td>0.0</td>\n",
       "      <td>0.0</td>\n",
       "      <td>0.0</td>\n",
       "      <td>0.0</td>\n",
       "      <td>0.0</td>\n",
       "    </tr>\n",
       "    <tr>\n",
       "      <th>C_3</th>\n",
       "      <td>0.0</td>\n",
       "      <td>0.0</td>\n",
       "      <td>0.0</td>\n",
       "      <td>0.0</td>\n",
       "      <td>0.0</td>\n",
       "      <td>0.0</td>\n",
       "      <td>0.0</td>\n",
       "      <td>0.000000</td>\n",
       "      <td>0.0</td>\n",
       "      <td>0.0</td>\n",
       "      <td>...</td>\n",
       "      <td>0.0</td>\n",
       "      <td>0.000000</td>\n",
       "      <td>0.0</td>\n",
       "      <td>0.0</td>\n",
       "      <td>0.0</td>\n",
       "      <td>0.0</td>\n",
       "      <td>0.0</td>\n",
       "      <td>0.0</td>\n",
       "      <td>0.0</td>\n",
       "      <td>0.0</td>\n",
       "    </tr>\n",
       "    <tr>\n",
       "      <th>C_4</th>\n",
       "      <td>0.0</td>\n",
       "      <td>0.0</td>\n",
       "      <td>0.0</td>\n",
       "      <td>0.0</td>\n",
       "      <td>0.0</td>\n",
       "      <td>0.0</td>\n",
       "      <td>0.0</td>\n",
       "      <td>1.692061</td>\n",
       "      <td>0.0</td>\n",
       "      <td>0.0</td>\n",
       "      <td>...</td>\n",
       "      <td>0.0</td>\n",
       "      <td>0.000000</td>\n",
       "      <td>0.0</td>\n",
       "      <td>0.0</td>\n",
       "      <td>0.0</td>\n",
       "      <td>0.0</td>\n",
       "      <td>0.0</td>\n",
       "      <td>0.0</td>\n",
       "      <td>0.0</td>\n",
       "      <td>0.0</td>\n",
       "    </tr>\n",
       "    <tr>\n",
       "      <th>C_5</th>\n",
       "      <td>0.0</td>\n",
       "      <td>0.0</td>\n",
       "      <td>0.0</td>\n",
       "      <td>0.0</td>\n",
       "      <td>0.0</td>\n",
       "      <td>0.0</td>\n",
       "      <td>0.0</td>\n",
       "      <td>0.000000</td>\n",
       "      <td>0.0</td>\n",
       "      <td>0.0</td>\n",
       "      <td>...</td>\n",
       "      <td>0.0</td>\n",
       "      <td>0.000000</td>\n",
       "      <td>0.0</td>\n",
       "      <td>0.0</td>\n",
       "      <td>0.0</td>\n",
       "      <td>0.0</td>\n",
       "      <td>0.0</td>\n",
       "      <td>0.0</td>\n",
       "      <td>0.0</td>\n",
       "      <td>0.0</td>\n",
       "    </tr>\n",
       "    <tr>\n",
       "      <th>...</th>\n",
       "      <td>...</td>\n",
       "      <td>...</td>\n",
       "      <td>...</td>\n",
       "      <td>...</td>\n",
       "      <td>...</td>\n",
       "      <td>...</td>\n",
       "      <td>...</td>\n",
       "      <td>...</td>\n",
       "      <td>...</td>\n",
       "      <td>...</td>\n",
       "      <td>...</td>\n",
       "      <td>...</td>\n",
       "      <td>...</td>\n",
       "      <td>...</td>\n",
       "      <td>...</td>\n",
       "      <td>...</td>\n",
       "      <td>...</td>\n",
       "      <td>...</td>\n",
       "      <td>...</td>\n",
       "      <td>...</td>\n",
       "      <td>...</td>\n",
       "    </tr>\n",
       "    <tr>\n",
       "      <th>C_1098</th>\n",
       "      <td>0.0</td>\n",
       "      <td>0.0</td>\n",
       "      <td>0.0</td>\n",
       "      <td>0.0</td>\n",
       "      <td>0.0</td>\n",
       "      <td>0.0</td>\n",
       "      <td>0.0</td>\n",
       "      <td>0.000000</td>\n",
       "      <td>0.0</td>\n",
       "      <td>0.0</td>\n",
       "      <td>...</td>\n",
       "      <td>0.0</td>\n",
       "      <td>0.000000</td>\n",
       "      <td>0.0</td>\n",
       "      <td>0.0</td>\n",
       "      <td>0.0</td>\n",
       "      <td>0.0</td>\n",
       "      <td>0.0</td>\n",
       "      <td>0.0</td>\n",
       "      <td>0.0</td>\n",
       "      <td>0.0</td>\n",
       "    </tr>\n",
       "    <tr>\n",
       "      <th>C_1099</th>\n",
       "      <td>0.0</td>\n",
       "      <td>0.0</td>\n",
       "      <td>0.0</td>\n",
       "      <td>0.0</td>\n",
       "      <td>0.0</td>\n",
       "      <td>0.0</td>\n",
       "      <td>0.0</td>\n",
       "      <td>0.000000</td>\n",
       "      <td>0.0</td>\n",
       "      <td>0.0</td>\n",
       "      <td>...</td>\n",
       "      <td>0.0</td>\n",
       "      <td>0.000000</td>\n",
       "      <td>0.0</td>\n",
       "      <td>0.0</td>\n",
       "      <td>0.0</td>\n",
       "      <td>0.0</td>\n",
       "      <td>0.0</td>\n",
       "      <td>0.0</td>\n",
       "      <td>0.0</td>\n",
       "      <td>0.0</td>\n",
       "    </tr>\n",
       "    <tr>\n",
       "      <th>C_1100</th>\n",
       "      <td>0.0</td>\n",
       "      <td>0.0</td>\n",
       "      <td>0.0</td>\n",
       "      <td>0.0</td>\n",
       "      <td>0.0</td>\n",
       "      <td>0.0</td>\n",
       "      <td>0.0</td>\n",
       "      <td>0.000000</td>\n",
       "      <td>0.0</td>\n",
       "      <td>0.0</td>\n",
       "      <td>...</td>\n",
       "      <td>0.0</td>\n",
       "      <td>0.000000</td>\n",
       "      <td>0.0</td>\n",
       "      <td>0.0</td>\n",
       "      <td>0.0</td>\n",
       "      <td>0.0</td>\n",
       "      <td>0.0</td>\n",
       "      <td>0.0</td>\n",
       "      <td>0.0</td>\n",
       "      <td>0.0</td>\n",
       "    </tr>\n",
       "    <tr>\n",
       "      <th>C_1101</th>\n",
       "      <td>0.0</td>\n",
       "      <td>0.0</td>\n",
       "      <td>0.0</td>\n",
       "      <td>0.0</td>\n",
       "      <td>0.0</td>\n",
       "      <td>0.0</td>\n",
       "      <td>0.0</td>\n",
       "      <td>0.000000</td>\n",
       "      <td>0.0</td>\n",
       "      <td>0.0</td>\n",
       "      <td>...</td>\n",
       "      <td>0.0</td>\n",
       "      <td>0.000000</td>\n",
       "      <td>0.0</td>\n",
       "      <td>0.0</td>\n",
       "      <td>0.0</td>\n",
       "      <td>0.0</td>\n",
       "      <td>0.0</td>\n",
       "      <td>0.0</td>\n",
       "      <td>0.0</td>\n",
       "      <td>0.0</td>\n",
       "    </tr>\n",
       "    <tr>\n",
       "      <th>C_1102</th>\n",
       "      <td>0.0</td>\n",
       "      <td>0.0</td>\n",
       "      <td>0.0</td>\n",
       "      <td>0.0</td>\n",
       "      <td>0.0</td>\n",
       "      <td>0.0</td>\n",
       "      <td>0.0</td>\n",
       "      <td>0.000000</td>\n",
       "      <td>0.0</td>\n",
       "      <td>0.0</td>\n",
       "      <td>...</td>\n",
       "      <td>0.0</td>\n",
       "      <td>2.035145</td>\n",
       "      <td>0.0</td>\n",
       "      <td>0.0</td>\n",
       "      <td>0.0</td>\n",
       "      <td>0.0</td>\n",
       "      <td>0.0</td>\n",
       "      <td>0.0</td>\n",
       "      <td>0.0</td>\n",
       "      <td>0.0</td>\n",
       "    </tr>\n",
       "  </tbody>\n",
       "</table>\n",
       "<p>1102 rows × 16422 columns</p>\n",
       "</div>"
      ],
      "text/plain": [
       "        0610005C13Rik  0610009B22Rik  0610009E02Rik  0610009L18Rik  \\\n",
       "C_1               0.0            0.0            0.0            0.0   \n",
       "C_2               0.0            0.0            0.0            0.0   \n",
       "C_3               0.0            0.0            0.0            0.0   \n",
       "C_4               0.0            0.0            0.0            0.0   \n",
       "C_5               0.0            0.0            0.0            0.0   \n",
       "...               ...            ...            ...            ...   \n",
       "C_1098            0.0            0.0            0.0            0.0   \n",
       "C_1099            0.0            0.0            0.0            0.0   \n",
       "C_1100            0.0            0.0            0.0            0.0   \n",
       "C_1101            0.0            0.0            0.0            0.0   \n",
       "C_1102            0.0            0.0            0.0            0.0   \n",
       "\n",
       "        0610010F05Rik  0610010K14Rik  0610012G03Rik  0610030E20Rik  \\\n",
       "C_1               0.0            0.0            0.0       0.000000   \n",
       "C_2               0.0            0.0            0.0       0.000000   \n",
       "C_3               0.0            0.0            0.0       0.000000   \n",
       "C_4               0.0            0.0            0.0       1.692061   \n",
       "C_5               0.0            0.0            0.0       0.000000   \n",
       "...               ...            ...            ...            ...   \n",
       "C_1098            0.0            0.0            0.0       0.000000   \n",
       "C_1099            0.0            0.0            0.0       0.000000   \n",
       "C_1100            0.0            0.0            0.0       0.000000   \n",
       "C_1101            0.0            0.0            0.0       0.000000   \n",
       "C_1102            0.0            0.0            0.0       0.000000   \n",
       "\n",
       "        0610038B21Rik  0610039K10Rik  ...  Galnt17     Bud23  Mettl27  Ccn4  \\\n",
       "C_1               0.0            0.0  ...      0.0  0.000000      0.0   0.0   \n",
       "C_2               0.0            0.0  ...      0.0  0.000000      0.0   0.0   \n",
       "C_3               0.0            0.0  ...      0.0  0.000000      0.0   0.0   \n",
       "C_4               0.0            0.0  ...      0.0  0.000000      0.0   0.0   \n",
       "C_5               0.0            0.0  ...      0.0  0.000000      0.0   0.0   \n",
       "...               ...            ...  ...      ...       ...      ...   ...   \n",
       "C_1098            0.0            0.0  ...      0.0  0.000000      0.0   0.0   \n",
       "C_1099            0.0            0.0  ...      0.0  0.000000      0.0   0.0   \n",
       "C_1100            0.0            0.0  ...      0.0  0.000000      0.0   0.0   \n",
       "C_1101            0.0            0.0  ...      0.0  0.000000      0.0   0.0   \n",
       "C_1102            0.0            0.0  ...      0.0  2.035145      0.0   0.0   \n",
       "\n",
       "        Ccn5  Get1  Tut4  Rtl3  Tut7  Zup1  \n",
       "C_1      0.0   0.0   0.0   0.0   0.0   0.0  \n",
       "C_2      0.0   0.0   0.0   0.0   0.0   0.0  \n",
       "C_3      0.0   0.0   0.0   0.0   0.0   0.0  \n",
       "C_4      0.0   0.0   0.0   0.0   0.0   0.0  \n",
       "C_5      0.0   0.0   0.0   0.0   0.0   0.0  \n",
       "...      ...   ...   ...   ...   ...   ...  \n",
       "C_1098   0.0   0.0   0.0   0.0   0.0   0.0  \n",
       "C_1099   0.0   0.0   0.0   0.0   0.0   0.0  \n",
       "C_1100   0.0   0.0   0.0   0.0   0.0   0.0  \n",
       "C_1101   0.0   0.0   0.0   0.0   0.0   0.0  \n",
       "C_1102   0.0   0.0   0.0   0.0   0.0   0.0  \n",
       "\n",
       "[1102 rows x 16422 columns]"
      ]
     },
     "execution_count": 68,
     "metadata": {},
     "output_type": "execute_result"
    }
   ],
   "source": [
    "df = pd.read_csv(\"data/mouse_Muscle1102_data.gz\", compression='gzip', index_col=0)\n",
    "df = df.transpose(copy=True) \n",
    "df"
   ]
  },
  {
   "cell_type": "code",
   "execution_count": 70,
   "id": "ad1e2d56",
   "metadata": {},
   "outputs": [],
   "source": [
    "df = df.iloc[filter_cell]\n",
    "df = df.rename(columns=gene2id)\n",
    "col = [c for c in df.columns if c in gene2id.values()]\n",
    "df = df[col]"
   ]
  },
  {
   "cell_type": "code",
   "execution_count": 71,
   "id": "7dfa93e5",
   "metadata": {},
   "outputs": [],
   "source": [
    "arr = df.to_numpy()\n",
    "row_idx, col_idx = np.nonzero(arr > 0)  # intra-dataset index\n",
    "non_zeros = arr[(row_idx, col_idx)]  # non-zero values\n",
    "cell_idx = row_idx + graph.number_of_nodes()  # cell_index\n",
    "gene_idx = df.columns[col_idx].astype(int).tolist()  # gene_index\n",
    "info_shape = (len(df), num_genes)\n",
    "info = csr_matrix((non_zeros, (row_idx, gene_idx)), shape=info_shape)\n",
    "matrices.append(info)\n",
    "\n",
    "num_cells += len(df)"
   ]
  },
  {
   "cell_type": "code",
   "execution_count": 72,
   "id": "92854d32",
   "metadata": {},
   "outputs": [],
   "source": [
    "ids = torch.tensor([-1] * len(df), dtype=torch.int32, device=device).unsqueeze(-1)\n",
    "graph.add_nodes(len(df), {'id': ids})\n",
    "graph.add_edges(cell_idx, gene_idx,\n",
    "                {'weight': torch.tensor(non_zeros, dtype=torch.float32, device=device).unsqueeze(1)})\n",
    "graph.add_edges(gene_idx, cell_idx,\n",
    "                {'weight': torch.tensor(non_zeros, dtype=torch.float32, device=device).unsqueeze(1)})"
   ]
  },
  {
   "cell_type": "code",
   "execution_count": 73,
   "id": "c66242bc",
   "metadata": {},
   "outputs": [
    {
     "data": {
      "text/plain": [
       "Graph(num_nodes=17524, num_edges=1169536,\n",
       "      ndata_schemes={'id': Scheme(shape=(1,), dtype=torch.int32)}\n",
       "      edata_schemes={'weight': Scheme(shape=(1,), dtype=torch.float32)})"
      ]
     },
     "execution_count": 73,
     "metadata": {},
     "output_type": "execute_result"
    }
   ],
   "source": [
    "graph"
   ]
  },
  {
   "cell_type": "markdown",
   "id": "2104623b",
   "metadata": {},
   "source": [
    "## Cell&Gene Features"
   ]
  },
  {
   "cell_type": "code",
   "execution_count": 75,
   "id": "e48ece5c",
   "metadata": {},
   "outputs": [],
   "source": [
    "sparse_feat = vstack(matrices).toarray()  # cell-wise  (cell, gene)"
   ]
  },
  {
   "cell_type": "code",
   "execution_count": 79,
   "id": "6f338a5e",
   "metadata": {},
   "outputs": [
    {
     "data": {
      "text/plain": [
       "(1102, 16422)"
      ]
     },
     "execution_count": 79,
     "metadata": {},
     "output_type": "execute_result"
    }
   ],
   "source": [
    "sparse_feat.shape"
   ]
  },
  {
   "cell_type": "code",
   "execution_count": 80,
   "id": "dcd6136a",
   "metadata": {},
   "outputs": [],
   "source": [
    "gene_pca = PCA(400, random_state=10086).fit(sparse_feat.T)\n",
    "gene_feat = gene_pca.transform(sparse_feat.T)\n",
    "gene_evr = sum(gene_pca.explained_variance_ratio_) * 100"
   ]
  },
  {
   "cell_type": "code",
   "execution_count": 81,
   "id": "c669b3cf",
   "metadata": {},
   "outputs": [],
   "source": [
    "sparse_feat = sparse_feat / (np.sum(sparse_feat, axis=1, keepdims=True) + 1e-6)\n",
    "# use weighted gene_feat as cell_feat\n",
    "cell_feat = sparse_feat.dot(gene_feat)\n",
    "gene_feat = torch.from_numpy(gene_feat)  # use shared storage\n",
    "cell_feat = torch.from_numpy(cell_feat)\n",
    "\n",
    "graph.ndata['features'] = torch.cat([gene_feat, cell_feat], dim=0).type(torch.float).to(device)\n",
    "labels = torch.tensor([-1] * num_genes + all_labels, dtype=torch.long, device=device)  # [gene_num+train_num]"
   ]
  },
  {
   "cell_type": "markdown",
   "id": "67b29cfe",
   "metadata": {},
   "source": [
    "# Random Permutation Cell index"
   ]
  },
  {
   "cell_type": "code",
   "execution_count": 83,
   "id": "0fead96a",
   "metadata": {},
   "outputs": [],
   "source": [
    "per = np.random.permutation(range(num_genes, num_genes + num_cells))\n",
    "test_ids = torch.tensor(per[:int(num_cells // ((1 - 0.2) / 0.2 + 1))]).to(device)\n",
    "train_ids = torch.tensor(per[int(num_cells // ((1 - 0.2) / 0.2 + 1)):]).to(device)"
   ]
  },
  {
   "cell_type": "markdown",
   "id": "50cd1871",
   "metadata": {},
   "source": [
    "# Normalize Weight"
   ]
  },
  {
   "cell_type": "code",
   "execution_count": 87,
   "id": "2ca95bff",
   "metadata": {},
   "outputs": [],
   "source": [
    "in_degrees = graph.in_degrees()\n",
    "for i in range(graph.number_of_nodes()):\n",
    "    src, dst, in_edge_id = graph.in_edges(i, form='all')\n",
    "    if src.shape[0] == 0:\n",
    "        continue\n",
    "    edge_w = graph.edata['weight'][in_edge_id]\n",
    "    graph.edata['weight'][in_edge_id] = in_degrees[i] * edge_w / torch.sum(edge_w)"
   ]
  },
  {
   "cell_type": "code",
   "execution_count": 91,
   "id": "221630e9",
   "metadata": {},
   "outputs": [],
   "source": [
    "# add self-loop\n",
    "graph.add_edges(graph.nodes(), graph.nodes(),\n",
    "                {'weight': torch.ones(graph.number_of_nodes(), dtype=torch.float, device=device).unsqueeze(1)})"
   ]
  },
  {
   "cell_type": "code",
   "execution_count": 92,
   "id": "cfbe64af",
   "metadata": {},
   "outputs": [
    {
     "name": "stderr",
     "output_type": "stream",
     "text": [
      "/home/chenhuaguan/.local/lib/python3.9/site-packages/dgl/base.py:45: DGLWarning: DGLGraph.readonly is deprecated in v0.5.\n",
      "DGLGraph now always supports mutable operations like add_nodes and add_edges.\n",
      "  return warnings.warn(message, category=category, stacklevel=1)\n"
     ]
    }
   ],
   "source": [
    "graph.readonly()"
   ]
  },
  {
   "cell_type": "code",
   "execution_count": null,
   "id": "a273d91d",
   "metadata": {},
   "outputs": [],
   "source": []
  }
 ],
 "metadata": {
  "kernelspec": {
   "display_name": "Python 3 (ipykernel)",
   "language": "python",
   "name": "python3"
  },
  "language_info": {
   "codemirror_mode": {
    "name": "ipython",
    "version": 3
   },
   "file_extension": ".py",
   "mimetype": "text/x-python",
   "name": "python",
   "nbconvert_exporter": "python",
   "pygments_lexer": "ipython3",
   "version": "3.9.7"
  }
 },
 "nbformat": 4,
 "nbformat_minor": 5
}
